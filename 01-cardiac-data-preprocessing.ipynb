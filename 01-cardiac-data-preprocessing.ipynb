{
 "cells": [
  {
   "cell_type": "markdown",
   "id": "0bfd4f65-152a-4e90-9b2c-c28f7192c6ea",
   "metadata": {},
   "source": [
    "# **Cardiac Data Pre-Processing**"
   ]
  },
  {
   "cell_type": "markdown",
   "id": "54787ebd-52a1-43ef-abf0-deafc45dabf9",
   "metadata": {},
   "source": [
    "This notebook outlines pre-processing procedures on electrocardiograph (ECG) and photoplethysmograph (PPG) data."
   ]
  },
  {
   "cell_type": "markdown",
   "id": "6f8adff1-e38c-40a5-bcfc-9680775f8b3b",
   "metadata": {},
   "source": [
    "## Imports"
   ]
  },
  {
   "cell_type": "raw",
   "id": "f323c4b5-9af4-4137-b934-9c04457a6781",
   "metadata": {},
   "source": [
    "!git clone https://github.com/nmy2103/physiological-sensing-lecture.git\n",
    "%cd physiological-sensing-lecture\n",
    "!pip install -e heartview"
   ]
  },
  {
   "cell_type": "code",
   "execution_count": 1,
   "id": "a53e0f9f-e850-4c06-aed4-d25c944d8998",
   "metadata": {},
   "outputs": [],
   "source": [
    "import pandas as pd\n",
    "from utils import interactive_plot\n",
    "from ipywidgets import interact\n",
    "from heartview import *"
   ]
  },
  {
   "cell_type": "markdown",
   "id": "e15ab1f0-69a7-42b4-a733-da5975b712ba",
   "metadata": {},
   "source": [
    "## ECG Data\n",
    "Load the sample ECG data."
   ]
  },
  {
   "cell_type": "code",
   "execution_count": 2,
   "id": "9c0d36e9-473f-4fc2-9fbc-552d53637a82",
   "metadata": {},
   "outputs": [
    {
     "data": {
      "text/html": [
       "<div>\n",
       "<style scoped>\n",
       "    .dataframe tbody tr th:only-of-type {\n",
       "        vertical-align: middle;\n",
       "    }\n",
       "\n",
       "    .dataframe tbody tr th {\n",
       "        vertical-align: top;\n",
       "    }\n",
       "\n",
       "    .dataframe thead th {\n",
       "        text-align: right;\n",
       "    }\n",
       "</style>\n",
       "<table border=\"1\" class=\"dataframe\">\n",
       "  <thead>\n",
       "    <tr style=\"text-align: right;\">\n",
       "      <th></th>\n",
       "      <th>Segment</th>\n",
       "      <th>Timestamp</th>\n",
       "      <th>ECG</th>\n",
       "    </tr>\n",
       "  </thead>\n",
       "  <tbody>\n",
       "    <tr>\n",
       "      <th>0</th>\n",
       "      <td>1</td>\n",
       "      <td>2017-03-18 14:57:18.000000</td>\n",
       "      <td>0.110697</td>\n",
       "    </tr>\n",
       "    <tr>\n",
       "      <th>1</th>\n",
       "      <td>1</td>\n",
       "      <td>2017-03-18 14:57:18.000977</td>\n",
       "      <td>0.110697</td>\n",
       "    </tr>\n",
       "    <tr>\n",
       "      <th>2</th>\n",
       "      <td>1</td>\n",
       "      <td>2017-03-18 14:57:18.001953</td>\n",
       "      <td>0.102508</td>\n",
       "    </tr>\n",
       "    <tr>\n",
       "      <th>3</th>\n",
       "      <td>1</td>\n",
       "      <td>2017-03-18 14:57:18.002930</td>\n",
       "      <td>0.078527</td>\n",
       "    </tr>\n",
       "    <tr>\n",
       "      <th>4</th>\n",
       "      <td>1</td>\n",
       "      <td>2017-03-18 14:57:18.003906</td>\n",
       "      <td>0.081159</td>\n",
       "    </tr>\n",
       "  </tbody>\n",
       "</table>\n",
       "</div>"
      ],
      "text/plain": [
       "   Segment                   Timestamp       ECG\n",
       "0        1  2017-03-18 14:57:18.000000  0.110697\n",
       "1        1  2017-03-18 14:57:18.000977  0.110697\n",
       "2        1  2017-03-18 14:57:18.001953  0.102508\n",
       "3        1  2017-03-18 14:57:18.002930  0.078527\n",
       "4        1  2017-03-18 14:57:18.003906  0.081159"
      ]
     },
     "execution_count": 2,
     "metadata": {},
     "output_type": "execute_result"
    }
   ],
   "source": [
    "ecg = pd.read_csv('data/sample_ecg.csv')\n",
    "ecg.head()"
   ]
  },
  {
   "cell_type": "markdown",
   "id": "3509abb3-beb3-4c9a-b0ba-c71ac2831607",
   "metadata": {},
   "source": [
    "Get the ECG sampling frequency."
   ]
  },
  {
   "cell_type": "code",
   "execution_count": 3,
   "id": "1bbb2470-319e-40cc-ab3b-8f83329bfc6d",
   "metadata": {},
   "outputs": [
    {
     "data": {
      "text/plain": [
       "1024"
      ]
     },
     "execution_count": 3,
     "metadata": {},
     "output_type": "execute_result"
    }
   ],
   "source": [
    "ecg.Timestamp = pd.to_datetime(ecg.Timestamp)\n",
    "ecg_fs = round(1 / (ecg.Timestamp.iloc[1] - ecg.Timestamp.iloc[0]).total_seconds())\n",
    "ecg_fs"
   ]
  },
  {
   "cell_type": "markdown",
   "id": "83d28656-6593-4c73-8f2f-06a78da6c73e",
   "metadata": {},
   "source": [
    "### ECG Filtering"
   ]
  },
  {
   "cell_type": "markdown",
   "id": "718d6ead-af28-46bb-bfc3-1b9594cda7bf",
   "metadata": {},
   "source": [
    "Apply a 2nd-order elliptic bandpass filter with cutoff frequencies of 1 Hz to 15 Hz to the signal."
   ]
  },
  {
   "cell_type": "code",
   "execution_count": 4,
   "id": "b494d376-1419-4067-9216-d06d79654d16",
   "metadata": {},
   "outputs": [],
   "source": [
    "ecg['Filtered'] = filter_ecg(signal = ecg['ECG'], fs = ecg_fs)"
   ]
  },
  {
   "cell_type": "markdown",
   "id": "cd782bc0-0caa-43c7-8db6-865022a30f35",
   "metadata": {},
   "source": [
    "View the filtered signal."
   ]
  },
  {
   "cell_type": "code",
   "execution_count": 5,
   "id": "8e869ce2-a0a8-456e-b680-ffff7bbb5a0e",
   "metadata": {},
   "outputs": [
    {
     "data": {
      "application/vnd.jupyter.widget-view+json": {
       "model_id": "4b03a56b766b4d648a5128f148d911a7",
       "version_major": 2,
       "version_minor": 0
      },
      "text/plain": [
       "interactive(children=(IntSlider(value=1, description='Segment:', max=15, min=1), Output()), _dom_classes=('wid…"
      ]
     },
     "metadata": {},
     "output_type": "display_data"
    }
   ],
   "source": [
    "interactive_plot(ecg, 'Timestamp', ['ECG', 'Filtered']);"
   ]
  },
  {
   "cell_type": "markdown",
   "id": "452764e6-38ce-422c-9fff-652af94596a8",
   "metadata": {},
   "source": [
    "### ECG Beat Detection"
   ]
  },
  {
   "cell_type": "code",
   "execution_count": 6,
   "id": "5a846992-4615-4e60-ba10-228482c457a3",
   "metadata": {},
   "outputs": [],
   "source": [
    "detect_beats = ECGBeatDetectors(fs = ecg_fs, preprocessed = True)"
   ]
  },
  {
   "cell_type": "markdown",
   "id": "4df6ab76-c841-4c79-923e-90570984474c",
   "metadata": {},
   "source": [
    "1. Manikandan & Soman (2012) algorithm  \n",
    "**Reference:** Manikandan, R., & Soman, K. P. (2012). A novel method for detecting R-peaks in electrocardiogram (ECG) signal. _Biomedical Signal Processing and Control, 7_(2), 118-128."
   ]
  },
  {
   "cell_type": "code",
   "execution_count": 7,
   "id": "2edf0ab6-5086-4285-83ea-8e6d3d44b0ed",
   "metadata": {},
   "outputs": [
    {
     "data": {
      "application/vnd.jupyter.widget-view+json": {
       "model_id": "5125eefba98c452f80bae39fcc5378ed",
       "version_major": 2,
       "version_minor": 0
      },
      "text/plain": [
       "interactive(children=(IntSlider(value=1, description='Segment:', max=15, min=1), Output()), _dom_classes=('wid…"
      ]
     },
     "metadata": {},
     "output_type": "display_data"
    }
   ],
   "source": [
    "ecg_beats = detect_beats.manikandan(ecg['Filtered'])\n",
    "ecg.loc[ecg_beats, 'Beat_Manikandan'] = 1\n",
    "interactive_plot(ecg, 'Timestamp', 'Filtered', beats = 'Beat_Manikandan');"
   ]
  },
  {
   "cell_type": "markdown",
   "id": "b9e3dbf2-bb75-4d08-83fe-f9c57356e084",
   "metadata": {},
   "source": [
    "2. Engelse & Zeelenberg (1979) algorithm  \n",
    "**Reference:** Engelse, W. A. & Zeelenberg, C. (1979). A single scan algorithm for QRS-detection and feature extraction. _Computers in Cardiology_, 6, 37-42."
   ]
  },
  {
   "cell_type": "code",
   "execution_count": 8,
   "id": "975f7923-38ee-4785-9505-6f0470761a70",
   "metadata": {},
   "outputs": [
    {
     "data": {
      "application/vnd.jupyter.widget-view+json": {
       "model_id": "774252f1887f4ff790c5411d5ff6d846",
       "version_major": 2,
       "version_minor": 0
      },
      "text/plain": [
       "interactive(children=(IntSlider(value=1, description='Segment:', max=15, min=1), Output()), _dom_classes=('wid…"
      ]
     },
     "metadata": {},
     "output_type": "display_data"
    }
   ],
   "source": [
    "ecg_beats = detect_beats.engzee(ecg['Filtered'])\n",
    "ecg.loc[ecg_beats, 'Beat_Engzee'] = 1\n",
    "interactive_plot(ecg, 'Timestamp', 'Filtered', beats = 'Beat_Engzee');"
   ]
  },
  {
   "cell_type": "markdown",
   "id": "9f1fd92d-5bb1-4949-915e-66d3196cd30f",
   "metadata": {},
   "source": [
    "3. Pan & Tompkins (1985) algorithm  \n",
    "**Reference:** Pan, S. J., & Tompkins, W. J. (1985). A real-time QRS detection algorithm. _IEEE Transactions on Biomedical Engineering, 32_(3), 230-236."
   ]
  },
  {
   "cell_type": "code",
   "execution_count": 9,
   "id": "695d06dc-06fb-4f61-bb9a-b094574eac50",
   "metadata": {},
   "outputs": [
    {
     "data": {
      "application/vnd.jupyter.widget-view+json": {
       "model_id": "0f6256195fe041e48943b789552b9aed",
       "version_major": 2,
       "version_minor": 0
      },
      "text/plain": [
       "interactive(children=(IntSlider(value=1, description='Segment:', max=15, min=1), Output()), _dom_classes=('wid…"
      ]
     },
     "metadata": {},
     "output_type": "display_data"
    }
   ],
   "source": [
    "ecg_beats = detect_beats.pantompkins(ecg['Filtered'])\n",
    "ecg.loc[ecg_beats, 'Beat_PanTompkins'] = 1\n",
    "interactive_plot(ecg, 'Timestamp', 'Filtered', beats = 'Beat_PanTompkins');"
   ]
  },
  {
   "cell_type": "markdown",
   "id": "8b06804b-c6fb-4446-aa6e-c8de06d660b9",
   "metadata": {},
   "source": [
    "## PPG Data\n",
    "Load the sample PPG data."
   ]
  },
  {
   "cell_type": "code",
   "execution_count": 10,
   "id": "c78aee27-3887-4fa5-ac4c-37776d9c750f",
   "metadata": {},
   "outputs": [
    {
     "data": {
      "text/html": [
       "<div>\n",
       "<style scoped>\n",
       "    .dataframe tbody tr th:only-of-type {\n",
       "        vertical-align: middle;\n",
       "    }\n",
       "\n",
       "    .dataframe tbody tr th {\n",
       "        vertical-align: top;\n",
       "    }\n",
       "\n",
       "    .dataframe thead th {\n",
       "        text-align: right;\n",
       "    }\n",
       "</style>\n",
       "<table border=\"1\" class=\"dataframe\">\n",
       "  <thead>\n",
       "    <tr style=\"text-align: right;\">\n",
       "      <th></th>\n",
       "      <th>Segment</th>\n",
       "      <th>Timestamp</th>\n",
       "      <th>BVP</th>\n",
       "    </tr>\n",
       "  </thead>\n",
       "  <tbody>\n",
       "    <tr>\n",
       "      <th>0</th>\n",
       "      <td>1</td>\n",
       "      <td>2021-11-15 22:59:26.000000</td>\n",
       "      <td>99.67</td>\n",
       "    </tr>\n",
       "    <tr>\n",
       "      <th>1</th>\n",
       "      <td>1</td>\n",
       "      <td>2021-11-15 22:59:26.015625</td>\n",
       "      <td>99.74</td>\n",
       "    </tr>\n",
       "    <tr>\n",
       "      <th>2</th>\n",
       "      <td>1</td>\n",
       "      <td>2021-11-15 22:59:26.031250</td>\n",
       "      <td>99.43</td>\n",
       "    </tr>\n",
       "    <tr>\n",
       "      <th>3</th>\n",
       "      <td>1</td>\n",
       "      <td>2021-11-15 22:59:26.046875</td>\n",
       "      <td>97.86</td>\n",
       "    </tr>\n",
       "    <tr>\n",
       "      <th>4</th>\n",
       "      <td>1</td>\n",
       "      <td>2021-11-15 22:59:26.062500</td>\n",
       "      <td>93.65</td>\n",
       "    </tr>\n",
       "  </tbody>\n",
       "</table>\n",
       "</div>"
      ],
      "text/plain": [
       "   Segment                   Timestamp    BVP\n",
       "0        1  2021-11-15 22:59:26.000000  99.67\n",
       "1        1  2021-11-15 22:59:26.015625  99.74\n",
       "2        1  2021-11-15 22:59:26.031250  99.43\n",
       "3        1  2021-11-15 22:59:26.046875  97.86\n",
       "4        1  2021-11-15 22:59:26.062500  93.65"
      ]
     },
     "execution_count": 10,
     "metadata": {},
     "output_type": "execute_result"
    }
   ],
   "source": [
    "ppg = pd.read_csv('data/sample_ppg.csv')\n",
    "ppg.head()"
   ]
  },
  {
   "cell_type": "markdown",
   "id": "e8338cdf-727e-4d84-85fd-74f801768399",
   "metadata": {},
   "source": [
    "Get the PPG sampling frequency."
   ]
  },
  {
   "cell_type": "code",
   "execution_count": 11,
   "id": "aa9f800d-9143-4760-9278-f2df20f6fbe2",
   "metadata": {},
   "outputs": [
    {
     "data": {
      "text/plain": [
       "64"
      ]
     },
     "execution_count": 11,
     "metadata": {},
     "output_type": "execute_result"
    }
   ],
   "source": [
    "ppg.Timestamp = pd.to_datetime(ppg.Timestamp)\n",
    "ppg_fs = round(1 / (ppg.Timestamp.iloc[1] - ppg.Timestamp.iloc[0]).total_seconds())\n",
    "ppg_fs"
   ]
  },
  {
   "cell_type": "markdown",
   "id": "abea8751-f54e-432f-9e12-286beb1edb3c",
   "metadata": {},
   "source": [
    "### PPG Filtering"
   ]
  },
  {
   "cell_type": "markdown",
   "id": "3430b42a-5cec-4855-b19b-74f3fb6decf2",
   "metadata": {},
   "source": [
    "Apply a 2nd-order Chebyshev Type II filter and moving average filter with a window size of 0.25 second to the signal."
   ]
  },
  {
   "cell_type": "code",
   "execution_count": 12,
   "id": "463a89f7-8deb-4408-8e72-cdf32104b9ee",
   "metadata": {},
   "outputs": [
    {
     "data": {
      "application/vnd.jupyter.widget-view+json": {
       "model_id": "24a85e7020404442be8f41c7ff507552",
       "version_major": 2,
       "version_minor": 0
      },
      "text/plain": [
       "interactive(children=(IntSlider(value=1, description='Segment:', max=20, min=1), Output()), _dom_classes=('wid…"
      ]
     },
     "metadata": {},
     "output_type": "display_data"
    }
   ],
   "source": [
    "ppg['Filtered'] = filter_ppg(ppg['BVP'], fs = ppg_fs, order = 2, window_len = 0.25)\n",
    "interactive_plot(ppg, 'Timestamp', ['BVP', 'Filtered'], color = ['pink', 'tomato']);"
   ]
  },
  {
   "cell_type": "markdown",
   "id": "1f2ee9a6-a8a8-43a9-808e-9ed5d96b67ab",
   "metadata": {},
   "source": [
    "### PPG Beat Detection"
   ]
  },
  {
   "cell_type": "code",
   "execution_count": 13,
   "id": "2adb9dc1-06eb-4fda-b6be-71ae1a166ff5",
   "metadata": {},
   "outputs": [],
   "source": [
    "detect_beats = PPGBeatDetectors(fs = ppg_fs, preprocessed = True)"
   ]
  },
  {
   "cell_type": "markdown",
   "id": "71fc8ff7-fef7-44ba-98c1-038c3b2f5b19",
   "metadata": {},
   "source": [
    "1. Adaptive thresholding algorithm"
   ]
  },
  {
   "cell_type": "code",
   "execution_count": 14,
   "id": "0569173b-04f4-4610-a4f4-7627a9085d34",
   "metadata": {},
   "outputs": [
    {
     "data": {
      "application/vnd.jupyter.widget-view+json": {
       "model_id": "be28619a20ec42a28b02a8736e3c9e67",
       "version_major": 2,
       "version_minor": 0
      },
      "text/plain": [
       "interactive(children=(IntSlider(value=1, description='Segment:', max=20, min=1), Output()), _dom_classes=('wid…"
      ]
     },
     "metadata": {},
     "output_type": "display_data"
    }
   ],
   "source": [
    "ppg_beats = detect_beats.adaptive_threshold(ppg['Filtered'])\n",
    "ppg.loc[ppg_beats, 'Beat_AdaptThresh'] = 1\n",
    "interactive_plot(ppg, 'Timestamp', 'Filtered', beats = 'Beat_AdaptThresh', color = 'tomato');"
   ]
  },
  {
   "cell_type": "markdown",
   "id": "a4aa130b-811e-4c33-8081-6b43fd7508e3",
   "metadata": {},
   "source": [
    "2. Event-related moving average (ERMA) algorithm  \n",
    "**Reference:** Elgendi, M., et al. (2013). Systolic peak detection in acceleration photoplethysmograms measured from emergency responders in tropical conditions. _PLoS ONE, 8_(10), e76585."
   ]
  },
  {
   "cell_type": "code",
   "execution_count": 15,
   "id": "2b13e31d-2d03-46a4-926b-0ad1cceb9556",
   "metadata": {},
   "outputs": [
    {
     "data": {
      "application/vnd.jupyter.widget-view+json": {
       "model_id": "0792c1b6ea0f4cf494c8c70f7c7e2f5b",
       "version_major": 2,
       "version_minor": 0
      },
      "text/plain": [
       "interactive(children=(IntSlider(value=1, description='Segment:', max=20, min=1), Output()), _dom_classes=('wid…"
      ]
     },
     "metadata": {},
     "output_type": "display_data"
    }
   ],
   "source": [
    "ppg_beats = detect_beats.erma(ppg['Filtered'])\n",
    "ppg.loc[ppg_beats, 'Beat_ERMA'] = 1\n",
    "interactive_plot(ppg, 'Timestamp', 'Filtered', beats = 'Beat_ERMA', color = 'tomato');"
   ]
  },
  {
   "cell_type": "markdown",
   "id": "8eff86af-3cbd-42ee-b94d-c35989027fe2",
   "metadata": {},
   "source": [
    "## Save Data"
   ]
  },
  {
   "cell_type": "code",
   "execution_count": 16,
   "id": "dacc509b-fcd7-46e6-9b27-7e2e8ea8f915",
   "metadata": {},
   "outputs": [],
   "source": [
    "ecg.to_csv('data/sample_ecg_preprocessed.csv', index = False)\n",
    "ppg.to_csv('data/sample_ppg_preprocessed.csv', index = False)"
   ]
  }
 ],
 "metadata": {
  "kernelspec": {
   "display_name": "Python 3 (ipykernel)",
   "language": "python",
   "name": "python3"
  },
  "language_info": {
   "codemirror_mode": {
    "name": "ipython",
    "version": 3
   },
   "file_extension": ".py",
   "mimetype": "text/x-python",
   "name": "python",
   "nbconvert_exporter": "python",
   "pygments_lexer": "ipython3",
   "version": "3.11.4"
  }
 },
 "nbformat": 4,
 "nbformat_minor": 5
}
